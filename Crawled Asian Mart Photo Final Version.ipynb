{
 "cells": [
  {
   "cell_type": "code",
   "execution_count": 10,
   "metadata": {},
   "outputs": [],
   "source": [
    "from bs4 import BeautifulSoup\n",
    "import requests\n",
    "import urllib.request\n",
    "import shutil\n",
    "import pandas as pd"
   ]
  },
  {
   "cell_type": "code",
   "execution_count": 11,
   "metadata": {},
   "outputs": [],
   "source": [
    "product = pd.read_csv('hmart.csv')"
   ]
  },
  {
   "cell_type": "code",
   "execution_count": 12,
   "metadata": {},
   "outputs": [
    {
     "data": {
      "text/plain": [
       "0       a taste black sesame natural oat 380g \n",
       "1           a taste no sugar natural oat 380g \n",
       "2           a taste original natural oat 380g \n",
       "3           a-sha guanmiao noodle multi 4pack \n",
       "4                   baby mill chilli oil 150ml\n",
       "                         ...                  \n",
       "1732       orion kobuk chip choco churrus 136g\n",
       "1733                               tofu snack \n",
       "1734             wang premium grade rice 4.4lb\n",
       "1735                     wang whole barley 4lb\n",
       "1736              wel pac edamame shelled 01lb\n",
       "Name: Title, Length: 1737, dtype: object"
      ]
     },
     "execution_count": 12,
     "metadata": {},
     "output_type": "execute_result"
    }
   ],
   "source": [
    "product['Title']"
   ]
  },
  {
   "cell_type": "code",
   "execution_count": 13,
   "metadata": {},
   "outputs": [],
   "source": [
    "def change_name_to_url(name):\n",
    "    new = 'https://asianmart.com/search?type=product%2Carticle&q='\n",
    "    for cha in name:\n",
    "        if cha is ' ':\n",
    "            new += '+'\n",
    "        elif cha is '(':\n",
    "            new += '%28'\n",
    "        elif cha is ')':\n",
    "            new += '%29'\n",
    "        else:\n",
    "            new += cha\n",
    "    return new"
   ]
  },
  {
   "cell_type": "code",
   "execution_count": 14,
   "metadata": {},
   "outputs": [],
   "source": [
    "def download_image(image, name):\n",
    "    response = requests.get('https:' + image, stream=True)\n",
    "    \n",
    "    file = open(\"/Users/liusixue/Desktop/ScrapedPhoto/{}.jpg\".format(name), 'wb')\n",
    "    \n",
    "    response.raw.decode_content = True\n",
    "    shutil.copyfileobj(response.raw, file)\n",
    "    del response"
   ]
  },
  {
   "cell_type": "code",
   "execution_count": 15,
   "metadata": {},
   "outputs": [],
   "source": [
    "for p in product['Title']:\n",
    "    url = change_name_to_url(p)\n",
    "    response = requests.get(url)\n",
    "    soup = BeautifulSoup(response.text, \"html.parser\")\n",
    "    images = soup.findAll('img', class_='rimage__image')\n",
    "    if images:\n",
    "        download_image(images[1]['src'], p)"
   ]
  },
  {
   "cell_type": "code",
   "execution_count": null,
   "metadata": {},
   "outputs": [],
   "source": []
  },
  {
   "cell_type": "code",
   "execution_count": null,
   "metadata": {},
   "outputs": [],
   "source": []
  },
  {
   "cell_type": "code",
   "execution_count": null,
   "metadata": {},
   "outputs": [],
   "source": []
  }
 ],
 "metadata": {
  "kernelspec": {
   "display_name": "Python 3",
   "language": "python",
   "name": "python3"
  },
  "language_info": {
   "codemirror_mode": {
    "name": "ipython",
    "version": 3
   },
   "file_extension": ".py",
   "mimetype": "text/x-python",
   "name": "python",
   "nbconvert_exporter": "python",
   "pygments_lexer": "ipython3",
   "version": "3.7.4"
  }
 },
 "nbformat": 4,
 "nbformat_minor": 2
}
